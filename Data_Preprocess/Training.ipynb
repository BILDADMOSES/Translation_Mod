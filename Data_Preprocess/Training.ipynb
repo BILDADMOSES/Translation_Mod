{
 "cells": [
  {
   "cell_type": "code",
   "execution_count": 2,
   "metadata": {},
   "outputs": [],
   "source": [
    "import pandas as pd\n",
    "from sklearn.model_selection import train_test_split"
   ]
  },
  {
   "cell_type": "code",
   "execution_count": 3,
   "metadata": {},
   "outputs": [],
   "source": [
    "df = pd.read_csv(r\"C:\\Users\\Bildad Otieno\\Documents\\Billy_Repo\\Translation_Mod\\Combined_no_null.csv\", encoding='ISO-8859-1')\n",
    "\n",
    "df.index = df.index + 1"
   ]
  },
  {
   "cell_type": "code",
   "execution_count": 4,
   "metadata": {},
   "outputs": [
    {
     "name": "stdout",
     "output_type": "stream",
     "text": [
      "help tom\n",
      "help tom\n",
      "help tom\n",
      "help tom\n",
      "help tom\n",
      "help tom\n",
      "help tom\n",
      "help tom\n",
      "help tom\n",
      "help tom\n",
      "help tom\n",
      "help tom\n",
      "help tom\n"
     ]
    }
   ],
   "source": [
    "for text in df['English words/sentences']:\n",
    "    if text == \"help tom\":\n",
    "        print(text)"
   ]
  },
  {
   "cell_type": "code",
   "execution_count": 31,
   "metadata": {},
   "outputs": [
    {
     "name": "stdout",
     "output_type": "stream",
     "text": [
      "['__class__', '__delattr__', '__dict__', '__dir__', '__doc__', '__eq__', '__format__', '__ge__', '__getattribute__', '__gt__', '__hash__', '__init__', '__init_subclass__', '__le__', '__lt__', '__module__', '__ne__', '__new__', '__reduce__', '__reduce_ex__', '__repr__', '__setattr__', '__sizeof__', '__str__', '__subclasshook__', '__weakref__', 'func', 'x']\n"
     ]
    }
   ],
   "source": [
    "class MyClass:\n",
    "    def __init__(self):\n",
    "        self.x = 10\n",
    "\n",
    "    def func(self):\n",
    "        pass\n",
    "\n",
    "obj = MyClass()\n",
    "print(dir(obj))  # Names in the 'MyClass' object\n"
   ]
  },
  {
   "cell_type": "code",
   "execution_count": 33,
   "metadata": {},
   "outputs": [
    {
     "name": "stdout",
     "output_type": "stream",
     "text": [
      "Barry Wally Bart Jessie \n"
     ]
    }
   ],
   "source": [
    "def Flash(*args):\n",
    "    Name = \"\"\n",
    "    for word in args:\n",
    "        Name += word + \" \"\n",
    "    return Name\n",
    "\n",
    "Names = Flash(\"Barry\", \"Wally\",\"Bart\",\"Jessie\")\n",
    "\n",
    "print(Names)"
   ]
  }
 ],
 "metadata": {
  "kernelspec": {
   "display_name": "myenv",
   "language": "python",
   "name": "python3"
  },
  "language_info": {
   "codemirror_mode": {
    "name": "ipython",
    "version": 3
   },
   "file_extension": ".py",
   "mimetype": "text/x-python",
   "name": "python",
   "nbconvert_exporter": "python",
   "pygments_lexer": "ipython3",
   "version": "3.9.16"
  },
  "orig_nbformat": 4
 },
 "nbformat": 4,
 "nbformat_minor": 2
}
