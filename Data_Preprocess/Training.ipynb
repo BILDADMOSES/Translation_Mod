{
 "cells": [
  {
   "cell_type": "code",
   "execution_count": 2,
   "metadata": {},
   "outputs": [],
   "source": [
    "import pandas as pd\n",
    "from sklearn.model_selection import train_test_split"
   ]
  },
  {
   "cell_type": "code",
   "execution_count": 3,
   "metadata": {},
   "outputs": [],
   "source": [
    "df = pd.read_csv(r\"C:\\Users\\Bildad Otieno\\Documents\\Billy_Repo\\Translation_Mod\\Combined_no_null.csv\", encoding='ISO-8859-1')\n",
    "df.index = df.index + 1"
   ]
  },
  {
   "cell_type": "code",
   "execution_count": 4,
   "metadata": {},
   "outputs": [
    {
     "data": {
      "text/html": [
       "<div>\n",
       "<style scoped>\n",
       "    .dataframe tbody tr th:only-of-type {\n",
       "        vertical-align: middle;\n",
       "    }\n",
       "\n",
       "    .dataframe tbody tr th {\n",
       "        vertical-align: top;\n",
       "    }\n",
       "\n",
       "    .dataframe thead th {\n",
       "        text-align: right;\n",
       "    }\n",
       "</style>\n",
       "<table border=\"1\" class=\"dataframe\">\n",
       "  <thead>\n",
       "    <tr style=\"text-align: right;\">\n",
       "      <th></th>\n",
       "      <th>English words/sentences</th>\n",
       "      <th>French words/sentences</th>\n",
       "    </tr>\n",
       "  </thead>\n",
       "  <tbody>\n",
       "    <tr>\n",
       "      <th>1</th>\n",
       "      <td>hi</td>\n",
       "      <td>salut</td>\n",
       "    </tr>\n",
       "    <tr>\n",
       "      <th>2</th>\n",
       "      <td>run</td>\n",
       "      <td>cours</td>\n",
       "    </tr>\n",
       "    <tr>\n",
       "      <th>3</th>\n",
       "      <td>run</td>\n",
       "      <td>courir</td>\n",
       "    </tr>\n",
       "    <tr>\n",
       "      <th>4</th>\n",
       "      <td>wow</td>\n",
       "      <td>cela alors</td>\n",
       "    </tr>\n",
       "    <tr>\n",
       "      <th>5</th>\n",
       "      <td>fire</td>\n",
       "      <td>feu</td>\n",
       "    </tr>\n",
       "    <tr>\n",
       "      <th>...</th>\n",
       "      <td>...</td>\n",
       "      <td>...</td>\n",
       "    </tr>\n",
       "    <tr>\n",
       "      <th>174207</th>\n",
       "      <td>top economic never work say obama country succ...</td>\n",
       "      <td>économie partir haut vers bas cela marche jama...</td>\n",
       "    </tr>\n",
       "    <tr>\n",
       "      <th>174208</th>\n",
       "      <td>carbon footprint amount carbon dioxide polluti...</td>\n",
       "      <td>empreinte carbone être somme pollution dioxyde...</td>\n",
       "    </tr>\n",
       "    <tr>\n",
       "      <th>174209</th>\n",
       "      <td>death something often discourage talk even thi...</td>\n",
       "      <td>mort être chose décourager souvent discuter pe...</td>\n",
       "    </tr>\n",
       "    <tr>\n",
       "      <th>174210</th>\n",
       "      <td>since usually multiple website on give topic u...</td>\n",
       "      <td>puisque avoir multiple site web chaque sujet c...</td>\n",
       "    </tr>\n",
       "    <tr>\n",
       "      <th>174211</th>\n",
       "      <td>someone know background say sound like native ...</td>\n",
       "      <td>si quelque connaître antécédent dire parler co...</td>\n",
       "    </tr>\n",
       "  </tbody>\n",
       "</table>\n",
       "<p>174211 rows × 2 columns</p>\n",
       "</div>"
      ],
      "text/plain": [
       "                                  English words/sentences  \\\n",
       "1                                                      hi   \n",
       "2                                                     run   \n",
       "3                                                     run   \n",
       "4                                                     wow   \n",
       "5                                                    fire   \n",
       "...                                                   ...   \n",
       "174207  top economic never work say obama country succ...   \n",
       "174208  carbon footprint amount carbon dioxide polluti...   \n",
       "174209  death something often discourage talk even thi...   \n",
       "174210  since usually multiple website on give topic u...   \n",
       "174211  someone know background say sound like native ...   \n",
       "\n",
       "                                   French words/sentences  \n",
       "1                                                   salut  \n",
       "2                                                   cours  \n",
       "3                                                  courir  \n",
       "4                                              cela alors  \n",
       "5                                                     feu  \n",
       "...                                                   ...  \n",
       "174207  économie partir haut vers bas cela marche jama...  \n",
       "174208  empreinte carbone être somme pollution dioxyde...  \n",
       "174209  mort être chose décourager souvent discuter pe...  \n",
       "174210  puisque avoir multiple site web chaque sujet c...  \n",
       "174211  si quelque connaître antécédent dire parler co...  \n",
       "\n",
       "[174211 rows x 2 columns]"
      ]
     },
     "execution_count": 4,
     "metadata": {},
     "output_type": "execute_result"
    }
   ],
   "source": [
    "df"
   ]
  }
 ],
 "metadata": {
  "kernelspec": {
   "display_name": "myenv",
   "language": "python",
   "name": "python3"
  },
  "language_info": {
   "codemirror_mode": {
    "name": "ipython",
    "version": 3
   },
   "file_extension": ".py",
   "mimetype": "text/x-python",
   "name": "python",
   "nbconvert_exporter": "python",
   "pygments_lexer": "ipython3",
   "version": "3.9.16"
  },
  "orig_nbformat": 4
 },
 "nbformat": 4,
 "nbformat_minor": 2
}
