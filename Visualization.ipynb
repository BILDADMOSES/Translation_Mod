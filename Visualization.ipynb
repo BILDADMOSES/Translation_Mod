{
 "cells": [
  {
   "attachments": {},
   "cell_type": "markdown",
   "metadata": {},
   "source": [
    "## Visualizing the Unique Values in Both Columns"
   ]
  },
  {
   "cell_type": "code",
   "execution_count": null,
   "metadata": {},
   "outputs": [],
   "source": [
    "import matplotlib.pyplot as plt\n",
    "\n",
    "fig = plt.figure(figsize = (8,10))\n",
    "ax = fig.add_subplot(111)\n",
    "# Assuming 'Eng' is the English column\n",
    "unique_values = Eng.nunique()\n",
    "unique_values2 = Fre.nunique()\n",
    "\n",
    "# Plot the bar chart\n",
    "ax.bar([\"English\"], [unique_values])\n",
    "ax.bar([\"French\"], [unique_values2])\n",
    "\n",
    "#ax.bar([\"English\", \"French\"],[unique_values, unique_values2])\n",
    "# Add labels and title\n",
    "ax.set(\n",
    "    xlabel = 'Number of Unique Values',\n",
    "    ylabel= 'Frequency',\n",
    "    title='Number of Unique Values in English and French Column'\n",
    ")\n",
    "# Show the plot\n",
    "plt.show()\n"
   ]
  }
 ],
 "metadata": {
  "language_info": {
   "name": "python"
  },
  "orig_nbformat": 4
 },
 "nbformat": 4,
 "nbformat_minor": 2
}
